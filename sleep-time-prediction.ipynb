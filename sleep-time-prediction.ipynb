{
 "cells": [
  {
   "cell_type": "markdown",
   "id": "bb037e89",
   "metadata": {
    "papermill": {
     "duration": 0.003342,
     "end_time": "2024-12-30T08:37:24.641195",
     "exception": false,
     "start_time": "2024-12-30T08:37:24.637853",
     "status": "completed"
    },
    "tags": []
   },
   "source": [
    "<font size=\"6\">Predicting the Sleeping Time Based on Lifestyle Choices</font>"
   ]
  },
  {
   "cell_type": "markdown",
   "id": "7c6006e1",
   "metadata": {
    "papermill": {
     "duration": 0.002792,
     "end_time": "2024-12-30T08:37:24.647191",
     "exception": false,
     "start_time": "2024-12-30T08:37:24.644399",
     "status": "completed"
    },
    "tags": []
   },
   "source": [
    "<font size=\"5\">1. Introduction</font>"
   ]
  },
  {
   "cell_type": "markdown",
   "id": "3b5b4fcd",
   "metadata": {
    "papermill": {
     "duration": 0.002526,
     "end_time": "2024-12-30T08:37:24.653487",
     "exception": false,
     "start_time": "2024-12-30T08:37:24.650961",
     "status": "completed"
    },
    "tags": []
   },
   "source": [
    "<font size=\"4\">1.1 Data Description</font>"
   ]
  },
  {
   "cell_type": "markdown",
   "id": "e787aeae",
   "metadata": {
    "papermill": {
     "duration": 0.002902,
     "end_time": "2024-12-30T08:37:24.659187",
     "exception": false,
     "start_time": "2024-12-30T08:37:24.656285",
     "status": "completed"
    },
    "tags": []
   },
   "source": [
    "<font size=\"4\"> 1.2 Question of Interest</font>"
   ]
  },
  {
   "cell_type": "markdown",
   "id": "fe3c7788",
   "metadata": {
    "papermill": {
     "duration": 0.002411,
     "end_time": "2024-12-30T08:37:24.664315",
     "exception": false,
     "start_time": "2024-12-30T08:37:24.661904",
     "status": "completed"
    },
    "tags": []
   },
   "source": [
    "<font size=\"5\"> 2. Methods and Results</font>\n",
    "\n",
    "<font size=\"4\"> a) Exploratory Data Analysis and Visualization</font>"
   ]
  },
  {
   "cell_type": "code",
   "execution_count": 1,
   "id": "f8b22beb",
   "metadata": {
    "_cell_guid": "b1076dfc-b9ad-4769-8c92-a6c4dae69d19",
    "_uuid": "8f2839f25d086af736a60e9eeb907d3b93b6e0e5",
    "execution": {
     "iopub.execute_input": "2024-12-30T08:37:24.671170Z",
     "iopub.status.busy": "2024-12-30T08:37:24.670735Z",
     "iopub.status.idle": "2024-12-30T08:37:25.094375Z",
     "shell.execute_reply": "2024-12-30T08:37:25.092843Z"
    },
    "papermill": {
     "duration": 0.429744,
     "end_time": "2024-12-30T08:37:25.096801",
     "exception": false,
     "start_time": "2024-12-30T08:37:24.667057",
     "status": "completed"
    },
    "tags": []
   },
   "outputs": [
    {
     "name": "stdout",
     "output_type": "stream",
     "text": [
      "/kaggle/input/sleep-time-prediction/sleeptime_prediction_dataset.csv\n"
     ]
    }
   ],
   "source": [
    "# This Python 3 environment comes with many helpful analytics libraries installed\n",
    "# It is defined by the kaggle/python Docker image: https://github.com/kaggle/docker-python\n",
    "# For example, here's several helpful packages to load\n",
    "\n",
    "import numpy as np \n",
    "import pandas as pd # data processing, CSV file I/O (e.g. pd.read_csv)\n",
    "\n",
    "# Input data files are available in the read-only \"../input/\" directory\n",
    "# For example, running this (by clicking run or pressing Shift+Enter) will list all files under the input directory\n",
    "\n",
    "import os\n",
    "for dirname, _, filenames in os.walk('/kaggle/input'):\n",
    "    for filename in filenames:\n",
    "        print(os.path.join(dirname, filename))\n",
    "\n",
    "# You can write up to 20GB to the current directory (/kaggle/working/) that gets preserved as output when you create a version using \"Save & Run All\" \n",
    "# You can also write temporary files to /kaggle/temp/, but they won't be saved outside of the current session"
   ]
  },
  {
   "cell_type": "code",
   "execution_count": 2,
   "id": "a6e50ef7",
   "metadata": {
    "execution": {
     "iopub.execute_input": "2024-12-30T08:37:25.105177Z",
     "iopub.status.busy": "2024-12-30T08:37:25.104577Z",
     "iopub.status.idle": "2024-12-30T08:37:25.145221Z",
     "shell.execute_reply": "2024-12-30T08:37:25.143253Z"
    },
    "papermill": {
     "duration": 0.047417,
     "end_time": "2024-12-30T08:37:25.147789",
     "exception": false,
     "start_time": "2024-12-30T08:37:25.100372",
     "status": "completed"
    },
    "tags": []
   },
   "outputs": [
    {
     "name": "stdout",
     "output_type": "stream",
     "text": [
      "      WorkoutTime  ReadingTime  PhoneTime  WorkHours  CaffeineIntake  \\\n",
      "0            1.12         0.52       3.29       7.89          216.08   \n",
      "1            2.85         0.49       4.22       5.03          206.18   \n",
      "2            2.20         1.81       4.04       9.23           28.73   \n",
      "3            1.80         0.50       1.62       7.68          276.77   \n",
      "4            0.47         0.54       1.60       4.94          170.54   \n",
      "...           ...          ...        ...        ...             ...   \n",
      "1995         1.97         0.88       3.74       5.64          257.30   \n",
      "1996         2.87         0.67       3.01       5.26          269.25   \n",
      "1997         0.21         0.79       4.06       6.73          284.01   \n",
      "1998         0.17         1.06       2.94       9.45          119.25   \n",
      "1999         0.85         0.32       1.60       4.63           65.14   \n",
      "\n",
      "      RelaxationTime  SleepTime  \n",
      "0               0.75       3.45  \n",
      "1               0.67       4.88  \n",
      "2               0.35       3.61  \n",
      "3               1.21       4.94  \n",
      "4               0.95       5.50  \n",
      "...              ...        ...  \n",
      "1995            0.01       4.24  \n",
      "1996            1.75       5.89  \n",
      "1997            0.61       3.00  \n",
      "1998            1.88       3.53  \n",
      "1999            0.63       5.83  \n",
      "\n",
      "[2000 rows x 7 columns]\n"
     ]
    }
   ],
   "source": [
    "raw_data = pd.read_csv('/kaggle/input/sleep-time-prediction/sleeptime_prediction_dataset.csv')\n",
    "print(raw_data)"
   ]
  },
  {
   "cell_type": "markdown",
   "id": "06df5361",
   "metadata": {
    "papermill": {
     "duration": 0.00297,
     "end_time": "2024-12-30T08:37:25.153862",
     "exception": false,
     "start_time": "2024-12-30T08:37:25.150892",
     "status": "completed"
    },
    "tags": []
   },
   "source": [
    "can use vif to see if there are correlated variables, and if there is remove it\n",
    "have to choose the input variables (which variables to focus on)\n",
    "basic linear plotting on selected variables \n"
   ]
  },
  {
   "cell_type": "markdown",
   "id": "908d86f7",
   "metadata": {
    "papermill": {
     "duration": 0.002551,
     "end_time": "2024-12-30T08:37:25.159351",
     "exception": false,
     "start_time": "2024-12-30T08:37:25.156800",
     "status": "completed"
    },
    "tags": []
   },
   "source": [
    "<font size=\"4\"> b) Methods and Plan</font>"
   ]
  },
  {
   "cell_type": "markdown",
   "id": "03ae45ae",
   "metadata": {
    "execution": {
     "iopub.execute_input": "2024-12-30T08:34:19.951752Z",
     "iopub.status.busy": "2024-12-30T08:34:19.951322Z",
     "iopub.status.idle": "2024-12-30T08:34:19.958170Z",
     "shell.execute_reply": "2024-12-30T08:34:19.956744Z",
     "shell.execute_reply.started": "2024-12-30T08:34:19.951716Z"
    },
    "papermill": {
     "duration": 0.002641,
     "end_time": "2024-12-30T08:37:25.165721",
     "exception": false,
     "start_time": "2024-12-30T08:37:25.163080",
     "status": "completed"
    },
    "tags": []
   },
   "source": [
    "<font size=\"5\"> 3. Discussion </font>\n"
   ]
  },
  {
   "cell_type": "markdown",
   "id": "236cefc2",
   "metadata": {
    "papermill": {
     "duration": 0.003278,
     "end_time": "2024-12-30T08:37:25.172407",
     "exception": false,
     "start_time": "2024-12-30T08:37:25.169129",
     "status": "completed"
    },
    "tags": []
   },
   "source": [
    "<font size=\"5\"> 4. References </font>\n"
   ]
  }
 ],
 "metadata": {
  "kaggle": {
   "accelerator": "none",
   "dataSources": [
    {
     "datasetId": 6390146,
     "sourceId": 10321027,
     "sourceType": "datasetVersion"
    }
   ],
   "dockerImageVersionId": 30822,
   "isGpuEnabled": false,
   "isInternetEnabled": true,
   "language": "python",
   "sourceType": "notebook"
  },
  "kernelspec": {
   "display_name": "Python 3",
   "language": "python",
   "name": "python3"
  },
  "language_info": {
   "codemirror_mode": {
    "name": "ipython",
    "version": 3
   },
   "file_extension": ".py",
   "mimetype": "text/x-python",
   "name": "python",
   "nbconvert_exporter": "python",
   "pygments_lexer": "ipython3",
   "version": "3.10.12"
  },
  "papermill": {
   "default_parameters": {},
   "duration": 3.550535,
   "end_time": "2024-12-30T08:37:25.798826",
   "environment_variables": {},
   "exception": null,
   "input_path": "__notebook__.ipynb",
   "output_path": "__notebook__.ipynb",
   "parameters": {},
   "start_time": "2024-12-30T08:37:22.248291",
   "version": "2.6.0"
  }
 },
 "nbformat": 4,
 "nbformat_minor": 5
}
